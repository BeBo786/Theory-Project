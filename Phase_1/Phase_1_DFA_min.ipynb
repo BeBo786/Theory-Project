{
 "cells": [
  {
   "cell_type": "markdown",
   "metadata": {},
   "source": [
    "# DFA Minimization"
   ]
  },
  {
   "cell_type": "code",
   "execution_count": 1,
   "metadata": {},
   "outputs": [],
   "source": []
  },
  {
   "cell_type": "code",
   "execution_count": 2,
   "metadata": {},
   "outputs": [],
   "source": [
    "def are_states_equivalent(state1, state2, dfa):\n",
    "    for symbol in dfa[state1]:\n",
    "        next_state1 = dfa[state1][symbol]\n",
    "        next_state2 = dfa[state2][symbol]\n",
    "\n",
    "        if next_state1 != next_state2:\n",
    "            return False\n",
    "\n",
    "    return True"
   ]
  },
  {
   "cell_type": "code",
   "execution_count": 3,
   "metadata": {},
   "outputs": [],
   "source": [
    "def merge_equivalent_states(partition, dfa):\n",
    "    merged_dfa = {}\n",
    "    new_states_mapping = {}\n",
    "\n",
    "    for group in partition:\n",
    "        representative_state = group[0]\n",
    "        for state in group:\n",
    "            new_states_mapping[state] = representative_state\n",
    "        merged_dfa[representative_state] = {}\n",
    "\n",
    "    for state in dfa:\n",
    "        for symbol in dfa[state]:\n",
    "            next_state = dfa[state][symbol]\n",
    "            merged_dfa[new_states_mapping[state]][symbol] = new_states_mapping[next_state]\n",
    "\n",
    "    return merged_dfa"
   ]
  },
  {
   "cell_type": "code",
   "execution_count": 4,
   "metadata": {},
   "outputs": [],
   "source": [
    "def split_equivalent_states(states, dfa):\n",
    "    split_groups = []\n",
    "    state1 = states[0]\n",
    "\n",
    "    for state2 in states[1:]:\n",
    "        if not are_states_equivalent(state1, state2, dfa):\n",
    "            split_groups.append([state1, state2])\n",
    "        else:\n",
    "            split_groups.append([state1])\n",
    "            split_groups.append([state2])\n",
    "\n",
    "    return split_groups"
   ]
  },
  {
   "cell_type": "code",
   "execution_count": 5,
   "metadata": {},
   "outputs": [],
   "source": [
    "def minimize_dfa(dfa, final_states):\n",
    "    non_final_states = [state for state in dfa.keys() if state not in final_states]\n",
    "    partition = [final_states, non_final_states]\n",
    "\n",
    "    while True:\n",
    "        new_partition = []\n",
    "\n",
    "        for group in partition:\n",
    "            if len(group) > 1:\n",
    "                split_groups = split_equivalent_states(group, dfa)\n",
    "                new_partition.extend(split_groups)\n",
    "            else:\n",
    "                new_partition.append(group)\n",
    "\n",
    "        if len(new_partition) == len(partition):\n",
    "            break\n",
    "\n",
    "        partition = new_partition\n",
    "\n",
    "    minimized_dfa = merge_equivalent_states(partition, dfa)\n",
    "    return minimized_dfa"
   ]
  },
  {
   "cell_type": "markdown",
   "metadata": {},
   "source": [
    "# Output Formats"
   ]
  },
  {
   "cell_type": "code",
   "execution_count": 6,
   "metadata": {},
   "outputs": [],
   "source": [
    "import graphviz\n",
    "\n",
    "def plot_dfa(dfa, final_states, start_state, title):\n",
    "    dot = graphviz.Digraph(comment=title, format='png')\n",
    "    \n",
    "    for state in dfa:\n",
    "        if state == start_state:\n",
    "            dot.node(state, shape='circle', color='red', style='filled')\n",
    "        elif state in final_states:\n",
    "            dot.node(state, shape='doublecircle')\n",
    "        else:\n",
    "            dot.node(state, shape='circle')\n",
    "    \n",
    "    for state in dfa:\n",
    "        for symbol, next_state in dfa[state].items():\n",
    "            dot.edge(state, next_state, label=symbol)\n",
    "    \n",
    "    dot.render(filename=f\"{title}_dfa\", format='png', cleanup=True)\n",
    "    print(f\"{title} DFA plotted successfully.\")"
   ]
  },
  {
   "cell_type": "code",
   "execution_count": 7,
   "metadata": {},
   "outputs": [],
   "source": [
    "def print_dfa(dfa, start_state, final_states):\n",
    "    print(\"State\\t a\\t b\")\n",
    "    for state, transitions in dfa.items():\n",
    "        start_marker = '→' if state == start_state else ''\n",
    "        final_marker = '*' if state in final_states else ''\n",
    "        print(f\"{start_marker}{state}{final_marker}\\t {transitions.get('a', '')}\\t {transitions.get('b', '')}\")"
   ]
  },
  {
   "cell_type": "markdown",
   "metadata": {},
   "source": [
    "# Examples "
   ]
  },
  {
   "cell_type": "code",
   "execution_count": 8,
   "metadata": {},
   "outputs": [
    {
     "name": "stdout",
     "output_type": "stream",
     "text": [
      "Original DFA:\n",
      "State\t a\t b\n",
      "→q0*\t \t \n",
      "q1\t \t \n",
      "q2\t \t \n",
      "\n",
      "Minimized DFA:\n",
      "State\t a\t b\n",
      "→q0*\t \t \n",
      "q1\t \t \n",
      "Original DFA plotted successfully.\n",
      "Minimized DFA plotted successfully.\n"
     ]
    }
   ],
   "source": [
    "dfa_example = {\n",
    "    'q0': {'0': 'q1', '1': 'q2'},\n",
    "    'q1': {'0': 'q2', '1': 'q0'},\n",
    "    'q2': {'0': 'q0', '1': 'q1'}\n",
    "}\n",
    "\n",
    "final_states_example = ['q0']\n",
    "start_state_example ='q0'\n",
    "\n",
    "minimized_dfa_example = minimize_dfa(dfa_example, final_states_example)\n",
    "\n",
    "print(\"Original DFA:\")\n",
    "print_dfa(dfa_example, start_state_example,final_states_example)\n",
    "print(\"\\nMinimized DFA:\")\n",
    "print_dfa(minimized_dfa_example, start_state_example,final_states_example)\n",
    "\n",
    "plot_dfa(dfa_example,final_states_example,start_state_example, \"Original\")\n",
    "plot_dfa(minimized_dfa_example,final_states_example,start_state_example, \"Minimized\")"
   ]
  },
  {
   "cell_type": "code",
   "execution_count": 13,
   "metadata": {},
   "outputs": [
    {
     "name": "stdout",
     "output_type": "stream",
     "text": [
      "Original DFA:\n",
      "State\t a\t b\n",
      "→q0\t q1\t q2\n",
      "q1\t q1\t q3\n",
      "q2\t q1\t q2\n",
      "q3\t q1\t q4\n",
      "q4*\t q1\t q2\n",
      "\n",
      "Minimized DFA:\n",
      "State\t a\t b\n",
      "q4*\t q0\t q2\n",
      "→q0\t q0\t q4\n",
      "q2\t q0\t q2\n",
      "Original DFA plotted successfully.\n",
      "Minimized DFA plotted successfully.\n"
     ]
    }
   ],
   "source": [
    "\n",
    "dfa_example = {\n",
    "    'q0': {'a': 'q1', 'b': 'q2'},\n",
    "    'q1': {'a': 'q1', 'b': 'q3'},\n",
    "    'q2': {'a': 'q1', 'b': 'q2'},\n",
    "    'q3': {'a': 'q1', 'b': 'q4'},\n",
    "    'q4': {'a': 'q1', 'b': 'q2'}\n",
    "}\n",
    "\n",
    "final_states_example = ['q4']\n",
    "start_state_example = 'q0'\n",
    "\n",
    "\n",
    "\n",
    "minimized_dfa_example = minimize_dfa(dfa_example, final_states_example)\n",
    "\n",
    "print(\"Original DFA:\")\n",
    "print_dfa(dfa_example, start_state_example,final_states_example)\n",
    "print(\"\\nMinimized DFA:\")\n",
    "print_dfa(minimized_dfa_example, start_state_example,final_states_example)\n",
    "\n",
    "plot_dfa(dfa_example,final_states_example,start_state_example, \"Original\")\n",
    "plot_dfa(minimized_dfa_example,final_states_example,start_state_example, \"Minimized\")"
   ]
  },
  {
   "cell_type": "code",
   "execution_count": 10,
   "metadata": {},
   "outputs": [
    {
     "name": "stdout",
     "output_type": "stream",
     "text": [
      "Original DFA:\n",
      "State\t a\t b\n",
      "→q0\t q1\t q0\n",
      "q1*\t q2\t q1\n",
      "q2*\t q1\t q2\n",
      "\n",
      "Minimized DFA:\n",
      "State\t a\t b\n",
      "q1*\t q1\t q1\n",
      "→q0\t q1\t q0\n",
      "Original DFA plotted successfully.\n",
      "Minimized DFA plotted successfully.\n"
     ]
    }
   ],
   "source": [
    "dfa_example = {\n",
    "    'q0': {'a': 'q1', 'b': 'q0'},\n",
    "    'q1': {'a': 'q2', 'b': 'q1'},\n",
    "    'q2': {'a': 'q1', 'b': 'q2'}\n",
    "}\n",
    "\n",
    "start_state_example = 'q0'\n",
    "final_states_example = ['q1', 'q2']\n",
    "\n",
    "minimized_dfa_example = minimize_dfa(dfa_example, final_states_example)\n",
    "print(\"Original DFA:\")\n",
    "print_dfa(dfa_example, start_state_example,final_states_example)\n",
    "print(\"\\nMinimized DFA:\")\n",
    "print_dfa(minimized_dfa_example, start_state_example,final_states_example)\n",
    "\n",
    "plot_dfa(dfa_example,final_states_example,start_state_example, \"Original\")\n",
    "plot_dfa(minimized_dfa_example,final_states_example,start_state_example, \"Minimized\")"
   ]
  }
 ],
 "metadata": {
  "kernelspec": {
   "display_name": "Python 3",
   "language": "python",
   "name": "python3"
  },
  "language_info": {
   "codemirror_mode": {
    "name": "ipython",
    "version": 3
   },
   "file_extension": ".py",
   "mimetype": "text/x-python",
   "name": "python",
   "nbconvert_exporter": "python",
   "pygments_lexer": "ipython3",
   "version": "3.10.8"
  }
 },
 "nbformat": 4,
 "nbformat_minor": 2
}
